{
 "cells": [
  {
   "cell_type": "code",
   "execution_count": 1,
   "metadata": {},
   "outputs": [],
   "source": [
    "import os\n",
    "\n",
    "import matplotlib.pyplot as plt\n",
    "import numpy as np\n",
    "import pandas as pd\n",
    "import plotly.express as px\n",
    "import pycountry\n",
    "import tqdm\n",
    "\n",
    "from result_funcs import get_result_paths\n",
    "\n",
    "def get_video_df(result_df):\n",
    "    result_df['id'] = result_df['return'].map(lambda r: r['id'] if r and 'id' in r else None)\n",
    "    video_df = result_df[result_df['id'].map(lambda i: i is not None)]\n",
    "    \n",
    "    return video_df"
   ]
  },
  {
   "cell_type": "code",
   "execution_count": 5,
   "metadata": {},
   "outputs": [
    {
     "name": "stderr",
     "output_type": "stream",
     "text": [
      "  0%|          | 0/10 [00:00<?, ?it/s]"
     ]
    },
    {
     "name": "stderr",
     "output_type": "stream",
     "text": [
      "/tmp/ipykernel_543050/1707465876.py:22: SettingWithCopyWarning: \n",
      "A value is trying to be set on a copy of a slice from a DataFrame.\n",
      "Try using .loc[row_indexer,col_indexer] = value instead\n",
      "\n",
      "See the caveats in the documentation: https://pandas.pydata.org/pandas-docs/stable/user_guide/indexing.html#returning-a-view-versus-a-copy\n",
      "  df['statusCode'] = df['return'].map(lambda r: int(r['statusCode']))\n",
      "/tmp/ipykernel_543050/1707465876.py:23: SettingWithCopyWarning: \n",
      "A value is trying to be set on a copy of a slice from a DataFrame.\n",
      "Try using .loc[row_indexer,col_indexer] = value instead\n",
      "\n",
      "See the caveats in the documentation: https://pandas.pydata.org/pandas-docs/stable/user_guide/indexing.html#returning-a-view-versus-a-copy\n",
      "  df['statusMsg'] = df['return'].map(lambda r: r['statusMsg'])\n",
      "/tmp/ipykernel_543050/1707465876.py:6: SettingWithCopyWarning: \n",
      "A value is trying to be set on a copy of a slice from a DataFrame.\n",
      "Try using .loc[row_indexer,col_indexer] = value instead\n",
      "\n",
      "See the caveats in the documentation: https://pandas.pydata.org/pandas-docs/stable/user_guide/indexing.html#returning-a-view-versus-a-copy\n",
      "  df['id'] = df['return'].map(lambda r: r['id'])\n",
      "/tmp/ipykernel_543050/1707465876.py:7: SettingWithCopyWarning: \n",
      "A value is trying to be set on a copy of a slice from a DataFrame.\n",
      "Try using .loc[row_indexer,col_indexer] = value instead\n",
      "\n",
      "See the caveats in the documentation: https://pandas.pydata.org/pandas-docs/stable/user_guide/indexing.html#returning-a-view-versus-a-copy\n",
      "  df['desc'] = df['return'].map(lambda r: r['desc'])\n",
      "/tmp/ipykernel_543050/1707465876.py:8: SettingWithCopyWarning: \n",
      "A value is trying to be set on a copy of a slice from a DataFrame.\n",
      "Try using .loc[row_indexer,col_indexer] = value instead\n",
      "\n",
      "See the caveats in the documentation: https://pandas.pydata.org/pandas-docs/stable/user_guide/indexing.html#returning-a-view-versus-a-copy\n",
      "  df['authorUniqueId'] = df['return'].map(lambda r: r['author']['uniqueId'] if r['author'] else None)\n",
      "/tmp/ipykernel_543050/1707465876.py:9: SettingWithCopyWarning: \n",
      "A value is trying to be set on a copy of a slice from a DataFrame.\n",
      "Try using .loc[row_indexer,col_indexer] = value instead\n",
      "\n",
      "See the caveats in the documentation: https://pandas.pydata.org/pandas-docs/stable/user_guide/indexing.html#returning-a-view-versus-a-copy\n",
      "  df['commentCount'] = df['return'].map(lambda r: int(r['stats']['commentCount']) if r['stats'] else None)\n",
      "/tmp/ipykernel_543050/1707465876.py:10: SettingWithCopyWarning: \n",
      "A value is trying to be set on a copy of a slice from a DataFrame.\n",
      "Try using .loc[row_indexer,col_indexer] = value instead\n",
      "\n",
      "See the caveats in the documentation: https://pandas.pydata.org/pandas-docs/stable/user_guide/indexing.html#returning-a-view-versus-a-copy\n",
      "  df['diggCount'] = df['return'].map(lambda r: int(r['stats']['diggCount']) if r['stats'] else None)\n",
      "/tmp/ipykernel_543050/1707465876.py:11: SettingWithCopyWarning: \n",
      "A value is trying to be set on a copy of a slice from a DataFrame.\n",
      "Try using .loc[row_indexer,col_indexer] = value instead\n",
      "\n",
      "See the caveats in the documentation: https://pandas.pydata.org/pandas-docs/stable/user_guide/indexing.html#returning-a-view-versus-a-copy\n",
      "  df['shareCount'] = df['return'].map(lambda r: int(r['stats']['shareCount']) if r['stats'] else None)\n",
      "/tmp/ipykernel_543050/1707465876.py:12: SettingWithCopyWarning: \n",
      "A value is trying to be set on a copy of a slice from a DataFrame.\n",
      "Try using .loc[row_indexer,col_indexer] = value instead\n",
      "\n",
      "See the caveats in the documentation: https://pandas.pydata.org/pandas-docs/stable/user_guide/indexing.html#returning-a-view-versus-a-copy\n",
      "  df['playCount'] = df['return'].map(lambda r: int(r['stats']['playCount']) if r['stats'] else None)\n",
      "/tmp/ipykernel_543050/1707465876.py:13: SettingWithCopyWarning: \n",
      "A value is trying to be set on a copy of a slice from a DataFrame.\n",
      "Try using .loc[row_indexer,col_indexer] = value instead\n",
      "\n",
      "See the caveats in the documentation: https://pandas.pydata.org/pandas-docs/stable/user_guide/indexing.html#returning-a-view-versus-a-copy\n",
      "  df['videoDuration'] = df['return'].map(lambda r: r['video']['duration'])\n",
      "/tmp/ipykernel_543050/1707465876.py:14: SettingWithCopyWarning: \n",
      "A value is trying to be set on a copy of a slice from a DataFrame.\n",
      "Try using .loc[row_indexer,col_indexer] = value instead\n",
      "\n",
      "See the caveats in the documentation: https://pandas.pydata.org/pandas-docs/stable/user_guide/indexing.html#returning-a-view-versus-a-copy\n",
      "  df['isImagePost'] = df['return'].map(lambda r: 'imagePost' in r)\n",
      "/tmp/ipykernel_543050/1707465876.py:15: SettingWithCopyWarning: \n",
      "A value is trying to be set on a copy of a slice from a DataFrame.\n",
      "Try using .loc[row_indexer,col_indexer] = value instead\n",
      "\n",
      "See the caveats in the documentation: https://pandas.pydata.org/pandas-docs/stable/user_guide/indexing.html#returning-a-view-versus-a-copy\n",
      "  df['numImages'] = df['return'].map(lambda r: len(r['imagePost']['images']) if 'imagePost' in r and r['imagePost'] else 0)\n",
      "/tmp/ipykernel_543050/1707465876.py:16: SettingWithCopyWarning: \n",
      "A value is trying to be set on a copy of a slice from a DataFrame.\n",
      "Try using .loc[row_indexer,col_indexer] = value instead\n",
      "\n",
      "See the caveats in the documentation: https://pandas.pydata.org/pandas-docs/stable/user_guide/indexing.html#returning-a-view-versus-a-copy\n",
      "  df['locationCreated'] = df['return'].map(lambda r: r['locationCreated'])\n",
      " 10%|█         | 1/10 [00:10<01:37, 10.83s/it]/tmp/ipykernel_543050/1707465876.py:22: SettingWithCopyWarning: \n",
      "A value is trying to be set on a copy of a slice from a DataFrame.\n",
      "Try using .loc[row_indexer,col_indexer] = value instead\n",
      "\n",
      "See the caveats in the documentation: https://pandas.pydata.org/pandas-docs/stable/user_guide/indexing.html#returning-a-view-versus-a-copy\n",
      "  df['statusCode'] = df['return'].map(lambda r: int(r['statusCode']))\n",
      "/tmp/ipykernel_543050/1707465876.py:23: SettingWithCopyWarning: \n",
      "A value is trying to be set on a copy of a slice from a DataFrame.\n",
      "Try using .loc[row_indexer,col_indexer] = value instead\n",
      "\n",
      "See the caveats in the documentation: https://pandas.pydata.org/pandas-docs/stable/user_guide/indexing.html#returning-a-view-versus-a-copy\n",
      "  df['statusMsg'] = df['return'].map(lambda r: r['statusMsg'])\n",
      "/tmp/ipykernel_543050/1707465876.py:6: SettingWithCopyWarning: \n",
      "A value is trying to be set on a copy of a slice from a DataFrame.\n",
      "Try using .loc[row_indexer,col_indexer] = value instead\n",
      "\n",
      "See the caveats in the documentation: https://pandas.pydata.org/pandas-docs/stable/user_guide/indexing.html#returning-a-view-versus-a-copy\n",
      "  df['id'] = df['return'].map(lambda r: r['id'])\n",
      "/tmp/ipykernel_543050/1707465876.py:7: SettingWithCopyWarning: \n",
      "A value is trying to be set on a copy of a slice from a DataFrame.\n",
      "Try using .loc[row_indexer,col_indexer] = value instead\n",
      "\n",
      "See the caveats in the documentation: https://pandas.pydata.org/pandas-docs/stable/user_guide/indexing.html#returning-a-view-versus-a-copy\n",
      "  df['desc'] = df['return'].map(lambda r: r['desc'])\n",
      "/tmp/ipykernel_543050/1707465876.py:8: SettingWithCopyWarning: \n",
      "A value is trying to be set on a copy of a slice from a DataFrame.\n",
      "Try using .loc[row_indexer,col_indexer] = value instead\n",
      "\n",
      "See the caveats in the documentation: https://pandas.pydata.org/pandas-docs/stable/user_guide/indexing.html#returning-a-view-versus-a-copy\n",
      "  df['authorUniqueId'] = df['return'].map(lambda r: r['author']['uniqueId'] if r['author'] else None)\n",
      "/tmp/ipykernel_543050/1707465876.py:9: SettingWithCopyWarning: \n",
      "A value is trying to be set on a copy of a slice from a DataFrame.\n",
      "Try using .loc[row_indexer,col_indexer] = value instead\n",
      "\n",
      "See the caveats in the documentation: https://pandas.pydata.org/pandas-docs/stable/user_guide/indexing.html#returning-a-view-versus-a-copy\n",
      "  df['commentCount'] = df['return'].map(lambda r: int(r['stats']['commentCount']) if r['stats'] else None)\n",
      "/tmp/ipykernel_543050/1707465876.py:10: SettingWithCopyWarning: \n",
      "A value is trying to be set on a copy of a slice from a DataFrame.\n",
      "Try using .loc[row_indexer,col_indexer] = value instead\n",
      "\n",
      "See the caveats in the documentation: https://pandas.pydata.org/pandas-docs/stable/user_guide/indexing.html#returning-a-view-versus-a-copy\n",
      "  df['diggCount'] = df['return'].map(lambda r: int(r['stats']['diggCount']) if r['stats'] else None)\n",
      "/tmp/ipykernel_543050/1707465876.py:11: SettingWithCopyWarning: \n",
      "A value is trying to be set on a copy of a slice from a DataFrame.\n",
      "Try using .loc[row_indexer,col_indexer] = value instead\n",
      "\n",
      "See the caveats in the documentation: https://pandas.pydata.org/pandas-docs/stable/user_guide/indexing.html#returning-a-view-versus-a-copy\n",
      "  df['shareCount'] = df['return'].map(lambda r: int(r['stats']['shareCount']) if r['stats'] else None)\n",
      "/tmp/ipykernel_543050/1707465876.py:12: SettingWithCopyWarning: \n",
      "A value is trying to be set on a copy of a slice from a DataFrame.\n",
      "Try using .loc[row_indexer,col_indexer] = value instead\n",
      "\n",
      "See the caveats in the documentation: https://pandas.pydata.org/pandas-docs/stable/user_guide/indexing.html#returning-a-view-versus-a-copy\n",
      "  df['playCount'] = df['return'].map(lambda r: int(r['stats']['playCount']) if r['stats'] else None)\n",
      "/tmp/ipykernel_543050/1707465876.py:13: SettingWithCopyWarning: \n",
      "A value is trying to be set on a copy of a slice from a DataFrame.\n",
      "Try using .loc[row_indexer,col_indexer] = value instead\n",
      "\n",
      "See the caveats in the documentation: https://pandas.pydata.org/pandas-docs/stable/user_guide/indexing.html#returning-a-view-versus-a-copy\n",
      "  df['videoDuration'] = df['return'].map(lambda r: r['video']['duration'])\n",
      "/tmp/ipykernel_543050/1707465876.py:14: SettingWithCopyWarning: \n",
      "A value is trying to be set on a copy of a slice from a DataFrame.\n",
      "Try using .loc[row_indexer,col_indexer] = value instead\n",
      "\n",
      "See the caveats in the documentation: https://pandas.pydata.org/pandas-docs/stable/user_guide/indexing.html#returning-a-view-versus-a-copy\n",
      "  df['isImagePost'] = df['return'].map(lambda r: 'imagePost' in r)\n",
      "/tmp/ipykernel_543050/1707465876.py:15: SettingWithCopyWarning: \n",
      "A value is trying to be set on a copy of a slice from a DataFrame.\n",
      "Try using .loc[row_indexer,col_indexer] = value instead\n",
      "\n",
      "See the caveats in the documentation: https://pandas.pydata.org/pandas-docs/stable/user_guide/indexing.html#returning-a-view-versus-a-copy\n",
      "  df['numImages'] = df['return'].map(lambda r: len(r['imagePost']['images']) if 'imagePost' in r and r['imagePost'] else 0)\n",
      "/tmp/ipykernel_543050/1707465876.py:16: SettingWithCopyWarning: \n",
      "A value is trying to be set on a copy of a slice from a DataFrame.\n",
      "Try using .loc[row_indexer,col_indexer] = value instead\n",
      "\n",
      "See the caveats in the documentation: https://pandas.pydata.org/pandas-docs/stable/user_guide/indexing.html#returning-a-view-versus-a-copy\n",
      "  df['locationCreated'] = df['return'].map(lambda r: r['locationCreated'])\n",
      " 20%|██        | 2/10 [00:21<01:27, 10.94s/it]/tmp/ipykernel_543050/1707465876.py:22: SettingWithCopyWarning: \n",
      "A value is trying to be set on a copy of a slice from a DataFrame.\n",
      "Try using .loc[row_indexer,col_indexer] = value instead\n",
      "\n",
      "See the caveats in the documentation: https://pandas.pydata.org/pandas-docs/stable/user_guide/indexing.html#returning-a-view-versus-a-copy\n",
      "  df['statusCode'] = df['return'].map(lambda r: int(r['statusCode']))\n",
      "/tmp/ipykernel_543050/1707465876.py:23: SettingWithCopyWarning: \n",
      "A value is trying to be set on a copy of a slice from a DataFrame.\n",
      "Try using .loc[row_indexer,col_indexer] = value instead\n",
      "\n",
      "See the caveats in the documentation: https://pandas.pydata.org/pandas-docs/stable/user_guide/indexing.html#returning-a-view-versus-a-copy\n",
      "  df['statusMsg'] = df['return'].map(lambda r: r['statusMsg'])\n",
      "/tmp/ipykernel_543050/1707465876.py:6: SettingWithCopyWarning: \n",
      "A value is trying to be set on a copy of a slice from a DataFrame.\n",
      "Try using .loc[row_indexer,col_indexer] = value instead\n",
      "\n",
      "See the caveats in the documentation: https://pandas.pydata.org/pandas-docs/stable/user_guide/indexing.html#returning-a-view-versus-a-copy\n",
      "  df['id'] = df['return'].map(lambda r: r['id'])\n",
      "/tmp/ipykernel_543050/1707465876.py:7: SettingWithCopyWarning: \n",
      "A value is trying to be set on a copy of a slice from a DataFrame.\n",
      "Try using .loc[row_indexer,col_indexer] = value instead\n",
      "\n",
      "See the caveats in the documentation: https://pandas.pydata.org/pandas-docs/stable/user_guide/indexing.html#returning-a-view-versus-a-copy\n",
      "  df['desc'] = df['return'].map(lambda r: r['desc'])\n",
      "/tmp/ipykernel_543050/1707465876.py:8: SettingWithCopyWarning: \n",
      "A value is trying to be set on a copy of a slice from a DataFrame.\n",
      "Try using .loc[row_indexer,col_indexer] = value instead\n",
      "\n",
      "See the caveats in the documentation: https://pandas.pydata.org/pandas-docs/stable/user_guide/indexing.html#returning-a-view-versus-a-copy\n",
      "  df['authorUniqueId'] = df['return'].map(lambda r: r['author']['uniqueId'] if r['author'] else None)\n",
      "/tmp/ipykernel_543050/1707465876.py:9: SettingWithCopyWarning: \n",
      "A value is trying to be set on a copy of a slice from a DataFrame.\n",
      "Try using .loc[row_indexer,col_indexer] = value instead\n",
      "\n",
      "See the caveats in the documentation: https://pandas.pydata.org/pandas-docs/stable/user_guide/indexing.html#returning-a-view-versus-a-copy\n",
      "  df['commentCount'] = df['return'].map(lambda r: int(r['stats']['commentCount']) if r['stats'] else None)\n",
      "/tmp/ipykernel_543050/1707465876.py:10: SettingWithCopyWarning: \n",
      "A value is trying to be set on a copy of a slice from a DataFrame.\n",
      "Try using .loc[row_indexer,col_indexer] = value instead\n",
      "\n",
      "See the caveats in the documentation: https://pandas.pydata.org/pandas-docs/stable/user_guide/indexing.html#returning-a-view-versus-a-copy\n",
      "  df['diggCount'] = df['return'].map(lambda r: int(r['stats']['diggCount']) if r['stats'] else None)\n",
      "/tmp/ipykernel_543050/1707465876.py:11: SettingWithCopyWarning: \n",
      "A value is trying to be set on a copy of a slice from a DataFrame.\n",
      "Try using .loc[row_indexer,col_indexer] = value instead\n",
      "\n",
      "See the caveats in the documentation: https://pandas.pydata.org/pandas-docs/stable/user_guide/indexing.html#returning-a-view-versus-a-copy\n",
      "  df['shareCount'] = df['return'].map(lambda r: int(r['stats']['shareCount']) if r['stats'] else None)\n",
      "/tmp/ipykernel_543050/1707465876.py:12: SettingWithCopyWarning: \n",
      "A value is trying to be set on a copy of a slice from a DataFrame.\n",
      "Try using .loc[row_indexer,col_indexer] = value instead\n",
      "\n",
      "See the caveats in the documentation: https://pandas.pydata.org/pandas-docs/stable/user_guide/indexing.html#returning-a-view-versus-a-copy\n",
      "  df['playCount'] = df['return'].map(lambda r: int(r['stats']['playCount']) if r['stats'] else None)\n",
      "/tmp/ipykernel_543050/1707465876.py:13: SettingWithCopyWarning: \n",
      "A value is trying to be set on a copy of a slice from a DataFrame.\n",
      "Try using .loc[row_indexer,col_indexer] = value instead\n",
      "\n",
      "See the caveats in the documentation: https://pandas.pydata.org/pandas-docs/stable/user_guide/indexing.html#returning-a-view-versus-a-copy\n",
      "  df['videoDuration'] = df['return'].map(lambda r: r['video']['duration'])\n",
      "/tmp/ipykernel_543050/1707465876.py:14: SettingWithCopyWarning: \n",
      "A value is trying to be set on a copy of a slice from a DataFrame.\n",
      "Try using .loc[row_indexer,col_indexer] = value instead\n",
      "\n",
      "See the caveats in the documentation: https://pandas.pydata.org/pandas-docs/stable/user_guide/indexing.html#returning-a-view-versus-a-copy\n",
      "  df['isImagePost'] = df['return'].map(lambda r: 'imagePost' in r)\n",
      "/tmp/ipykernel_543050/1707465876.py:15: SettingWithCopyWarning: \n",
      "A value is trying to be set on a copy of a slice from a DataFrame.\n",
      "Try using .loc[row_indexer,col_indexer] = value instead\n",
      "\n",
      "See the caveats in the documentation: https://pandas.pydata.org/pandas-docs/stable/user_guide/indexing.html#returning-a-view-versus-a-copy\n",
      "  df['numImages'] = df['return'].map(lambda r: len(r['imagePost']['images']) if 'imagePost' in r and r['imagePost'] else 0)\n",
      "/tmp/ipykernel_543050/1707465876.py:16: SettingWithCopyWarning: \n",
      "A value is trying to be set on a copy of a slice from a DataFrame.\n",
      "Try using .loc[row_indexer,col_indexer] = value instead\n",
      "\n",
      "See the caveats in the documentation: https://pandas.pydata.org/pandas-docs/stable/user_guide/indexing.html#returning-a-view-versus-a-copy\n",
      "  df['locationCreated'] = df['return'].map(lambda r: r['locationCreated'])\n",
      " 30%|███       | 3/10 [00:39<01:32, 13.26s/it]\n"
     ]
    },
    {
     "ename": "KeyboardInterrupt",
     "evalue": "",
     "output_type": "error",
     "traceback": [
      "\u001b[0;31m---------------------------------------------------------------------------\u001b[0m",
      "\u001b[0;31mKeyboardInterrupt\u001b[0m                         Traceback (most recent call last)",
      "Cell \u001b[0;32mIn[5], line 31\u001b[0m\n\u001b[1;32m     29\u001b[0m result_paths \u001b[38;5;241m=\u001b[39m result_paths[:\u001b[38;5;241m10\u001b[39m]\n\u001b[1;32m     30\u001b[0m \u001b[38;5;28;01mfor\u001b[39;00m result_path \u001b[38;5;129;01min\u001b[39;00m tqdm\u001b[38;5;241m.\u001b[39mtqdm(result_paths):\n\u001b[0;32m---> 31\u001b[0m     batch_result_df \u001b[38;5;241m=\u001b[39m \u001b[43mpd\u001b[49m\u001b[38;5;241;43m.\u001b[39;49m\u001b[43mread_parquet\u001b[49m\u001b[43m(\u001b[49m\u001b[43mresult_path\u001b[49m\u001b[43m,\u001b[49m\u001b[43m \u001b[49m\u001b[43mcolumns\u001b[49m\u001b[38;5;241;43m=\u001b[39;49m\u001b[43m[\u001b[49m\u001b[38;5;124;43m'\u001b[39;49m\u001b[38;5;124;43mresult\u001b[39;49m\u001b[38;5;124;43m'\u001b[39;49m\u001b[43m,\u001b[49m\u001b[43m \u001b[49m\u001b[38;5;124;43m'\u001b[39;49m\u001b[38;5;124;43margs\u001b[39;49m\u001b[38;5;124;43m'\u001b[39;49m\u001b[43m]\u001b[49m\u001b[43m)\u001b[49m\n\u001b[1;32m     32\u001b[0m     batch_result_df[\u001b[38;5;124m'\u001b[39m\u001b[38;5;124mreturn\u001b[39m\u001b[38;5;124m'\u001b[39m] \u001b[38;5;241m=\u001b[39m batch_result_df[\u001b[38;5;124m'\u001b[39m\u001b[38;5;124mresult\u001b[39m\u001b[38;5;124m'\u001b[39m]\u001b[38;5;241m.\u001b[39mmap(\u001b[38;5;28;01mlambda\u001b[39;00m r: r[\u001b[38;5;124m'\u001b[39m\u001b[38;5;124mreturn\u001b[39m\u001b[38;5;124m'\u001b[39m])\n\u001b[1;32m     33\u001b[0m     batch_result_df \u001b[38;5;241m=\u001b[39m batch_result_df\u001b[38;5;241m.\u001b[39mdrop(columns\u001b[38;5;241m=\u001b[39m[\u001b[38;5;124m'\u001b[39m\u001b[38;5;124mresult\u001b[39m\u001b[38;5;124m'\u001b[39m])\n",
      "File \u001b[0;32m~/miniconda3/envs/whatforwhere/lib/python3.12/site-packages/pandas/io/parquet.py:667\u001b[0m, in \u001b[0;36mread_parquet\u001b[0;34m(path, engine, columns, storage_options, use_nullable_dtypes, dtype_backend, filesystem, filters, **kwargs)\u001b[0m\n\u001b[1;32m    664\u001b[0m     use_nullable_dtypes \u001b[38;5;241m=\u001b[39m \u001b[38;5;28;01mFalse\u001b[39;00m\n\u001b[1;32m    665\u001b[0m check_dtype_backend(dtype_backend)\n\u001b[0;32m--> 667\u001b[0m \u001b[38;5;28;01mreturn\u001b[39;00m \u001b[43mimpl\u001b[49m\u001b[38;5;241;43m.\u001b[39;49m\u001b[43mread\u001b[49m\u001b[43m(\u001b[49m\n\u001b[1;32m    668\u001b[0m \u001b[43m    \u001b[49m\u001b[43mpath\u001b[49m\u001b[43m,\u001b[49m\n\u001b[1;32m    669\u001b[0m \u001b[43m    \u001b[49m\u001b[43mcolumns\u001b[49m\u001b[38;5;241;43m=\u001b[39;49m\u001b[43mcolumns\u001b[49m\u001b[43m,\u001b[49m\n\u001b[1;32m    670\u001b[0m \u001b[43m    \u001b[49m\u001b[43mfilters\u001b[49m\u001b[38;5;241;43m=\u001b[39;49m\u001b[43mfilters\u001b[49m\u001b[43m,\u001b[49m\n\u001b[1;32m    671\u001b[0m \u001b[43m    \u001b[49m\u001b[43mstorage_options\u001b[49m\u001b[38;5;241;43m=\u001b[39;49m\u001b[43mstorage_options\u001b[49m\u001b[43m,\u001b[49m\n\u001b[1;32m    672\u001b[0m \u001b[43m    \u001b[49m\u001b[43muse_nullable_dtypes\u001b[49m\u001b[38;5;241;43m=\u001b[39;49m\u001b[43muse_nullable_dtypes\u001b[49m\u001b[43m,\u001b[49m\n\u001b[1;32m    673\u001b[0m \u001b[43m    \u001b[49m\u001b[43mdtype_backend\u001b[49m\u001b[38;5;241;43m=\u001b[39;49m\u001b[43mdtype_backend\u001b[49m\u001b[43m,\u001b[49m\n\u001b[1;32m    674\u001b[0m \u001b[43m    \u001b[49m\u001b[43mfilesystem\u001b[49m\u001b[38;5;241;43m=\u001b[39;49m\u001b[43mfilesystem\u001b[49m\u001b[43m,\u001b[49m\n\u001b[1;32m    675\u001b[0m \u001b[43m    \u001b[49m\u001b[38;5;241;43m*\u001b[39;49m\u001b[38;5;241;43m*\u001b[39;49m\u001b[43mkwargs\u001b[49m\u001b[43m,\u001b[49m\n\u001b[1;32m    676\u001b[0m \u001b[43m\u001b[49m\u001b[43m)\u001b[49m\n",
      "File \u001b[0;32m~/miniconda3/envs/whatforwhere/lib/python3.12/site-packages/pandas/io/parquet.py:281\u001b[0m, in \u001b[0;36mPyArrowImpl.read\u001b[0;34m(self, path, columns, filters, use_nullable_dtypes, dtype_backend, storage_options, filesystem, **kwargs)\u001b[0m\n\u001b[1;32m    273\u001b[0m \u001b[38;5;28;01mtry\u001b[39;00m:\n\u001b[1;32m    274\u001b[0m     pa_table \u001b[38;5;241m=\u001b[39m \u001b[38;5;28mself\u001b[39m\u001b[38;5;241m.\u001b[39mapi\u001b[38;5;241m.\u001b[39mparquet\u001b[38;5;241m.\u001b[39mread_table(\n\u001b[1;32m    275\u001b[0m         path_or_handle,\n\u001b[1;32m    276\u001b[0m         columns\u001b[38;5;241m=\u001b[39mcolumns,\n\u001b[0;32m   (...)\u001b[0m\n\u001b[1;32m    279\u001b[0m         \u001b[38;5;241m*\u001b[39m\u001b[38;5;241m*\u001b[39mkwargs,\n\u001b[1;32m    280\u001b[0m     )\n\u001b[0;32m--> 281\u001b[0m     result \u001b[38;5;241m=\u001b[39m \u001b[43mpa_table\u001b[49m\u001b[38;5;241;43m.\u001b[39;49m\u001b[43mto_pandas\u001b[49m\u001b[43m(\u001b[49m\u001b[38;5;241;43m*\u001b[39;49m\u001b[38;5;241;43m*\u001b[39;49m\u001b[43mto_pandas_kwargs\u001b[49m\u001b[43m)\u001b[49m\n\u001b[1;32m    283\u001b[0m     \u001b[38;5;28;01mif\u001b[39;00m manager \u001b[38;5;241m==\u001b[39m \u001b[38;5;124m\"\u001b[39m\u001b[38;5;124marray\u001b[39m\u001b[38;5;124m\"\u001b[39m:\n\u001b[1;32m    284\u001b[0m         result \u001b[38;5;241m=\u001b[39m result\u001b[38;5;241m.\u001b[39m_as_manager(\u001b[38;5;124m\"\u001b[39m\u001b[38;5;124marray\u001b[39m\u001b[38;5;124m\"\u001b[39m, copy\u001b[38;5;241m=\u001b[39m\u001b[38;5;28;01mFalse\u001b[39;00m)\n",
      "File \u001b[0;32m~/miniconda3/envs/whatforwhere/lib/python3.12/site-packages/pyarrow/array.pxi:872\u001b[0m, in \u001b[0;36mpyarrow.lib._PandasConvertible.to_pandas\u001b[0;34m()\u001b[0m\n",
      "File \u001b[0;32m~/miniconda3/envs/whatforwhere/lib/python3.12/site-packages/pyarrow/table.pxi:4904\u001b[0m, in \u001b[0;36mpyarrow.lib.Table._to_pandas\u001b[0;34m()\u001b[0m\n",
      "File \u001b[0;32m~/miniconda3/envs/whatforwhere/lib/python3.12/site-packages/pyarrow/pandas_compat.py:779\u001b[0m, in \u001b[0;36mtable_to_dataframe\u001b[0;34m(options, table, categories, ignore_metadata, types_mapper)\u001b[0m\n\u001b[1;32m    776\u001b[0m columns \u001b[38;5;241m=\u001b[39m _deserialize_column_index(table, all_columns, column_indexes)\n\u001b[1;32m    778\u001b[0m column_names \u001b[38;5;241m=\u001b[39m table\u001b[38;5;241m.\u001b[39mcolumn_names\n\u001b[0;32m--> 779\u001b[0m result \u001b[38;5;241m=\u001b[39m \u001b[43mpa\u001b[49m\u001b[38;5;241;43m.\u001b[39;49m\u001b[43mlib\u001b[49m\u001b[38;5;241;43m.\u001b[39;49m\u001b[43mtable_to_blocks\u001b[49m\u001b[43m(\u001b[49m\u001b[43moptions\u001b[49m\u001b[43m,\u001b[49m\u001b[43m \u001b[49m\u001b[43mtable\u001b[49m\u001b[43m,\u001b[49m\u001b[43m \u001b[49m\u001b[43mcategories\u001b[49m\u001b[43m,\u001b[49m\n\u001b[1;32m    780\u001b[0m \u001b[43m                                \u001b[49m\u001b[38;5;28;43mlist\u001b[39;49m\u001b[43m(\u001b[49m\u001b[43mext_columns_dtypes\u001b[49m\u001b[38;5;241;43m.\u001b[39;49m\u001b[43mkeys\u001b[49m\u001b[43m(\u001b[49m\u001b[43m)\u001b[49m\u001b[43m)\u001b[49m\u001b[43m)\u001b[49m\n\u001b[1;32m    781\u001b[0m \u001b[38;5;28;01mif\u001b[39;00m _pandas_api\u001b[38;5;241m.\u001b[39mis_ge_v3():\n\u001b[1;32m    782\u001b[0m     \u001b[38;5;28;01mfrom\u001b[39;00m \u001b[38;5;21;01mpandas\u001b[39;00m\u001b[38;5;21;01m.\u001b[39;00m\u001b[38;5;21;01mapi\u001b[39;00m\u001b[38;5;21;01m.\u001b[39;00m\u001b[38;5;21;01minternals\u001b[39;00m \u001b[38;5;28;01mimport\u001b[39;00m create_dataframe_from_blocks\n",
      "\u001b[0;31mKeyboardInterrupt\u001b[0m: "
     ]
    }
   ],
   "source": [
    "data_dir_path = os.path.join(\"..\", \"data\", \"results\", \"2024_04_10\", \"hours\", \"19\")\n",
    "result_paths = list(get_result_paths(data_dir_path))\n",
    "result_paths = sorted(result_paths)\n",
    "\n",
    "def extract_video_data(df):\n",
    "    df['id'] = df['return'].map(lambda r: r['id'])\n",
    "    df['desc'] = df['return'].map(lambda r: r['desc'])\n",
    "    df['authorUniqueId'] = df['return'].map(lambda r: r['author']['uniqueId'] if r['author'] else None)\n",
    "    df['commentCount'] = df['return'].map(lambda r: int(r['stats']['commentCount']) if r['stats'] else None)\n",
    "    df['diggCount'] = df['return'].map(lambda r: int(r['stats']['diggCount']) if r['stats'] else None)\n",
    "    df['shareCount'] = df['return'].map(lambda r: int(r['stats']['shareCount']) if r['stats'] else None)\n",
    "    df['playCount'] = df['return'].map(lambda r: int(r['stats']['playCount']) if r['stats'] else None)\n",
    "    df['videoDuration'] = df['return'].map(lambda r: r['video']['duration'])\n",
    "    df['isImagePost'] = df['return'].map(lambda r: 'imagePost' in r)\n",
    "    df['numImages'] = df['return'].map(lambda r: len(r['imagePost']['images']) if 'imagePost' in r and r['imagePost'] else 0)\n",
    "    df['locationCreated'] = df['return'].map(lambda r: r['locationCreated'])\n",
    "    df = df[['id', 'desc', 'authorUniqueId', 'commentCount', 'diggCount', 'shareCount', 'playCount', 'videoDuration', 'isImagePost', 'numImages', 'locationCreated']]\n",
    "    return df\n",
    "\n",
    "def extract_error_data(df):\n",
    "    df = df[df['return'].map(lambda r: 'statusCode' in r and r['statusCode'] is not None)]\n",
    "    df['statusCode'] = df['return'].map(lambda r: int(r['statusCode']))\n",
    "    df['statusMsg'] = df['return'].map(lambda r: r['statusMsg'])\n",
    "    df = df[['statusCode', 'statusMsg']]\n",
    "    return df\n",
    "\n",
    "video_df = None\n",
    "error_df = None\n",
    "result_paths = result_paths[:10]\n",
    "for result_path in tqdm.tqdm(result_paths):\n",
    "    batch_result_df = pd.read_parquet(result_path, columns=['result', 'args'])\n",
    "    batch_result_df['return'] = batch_result_df['result'].map(lambda r: r['return'])\n",
    "    batch_result_df = batch_result_df.drop(columns=['result'])\n",
    "    batch_error_df = extract_error_data(batch_result_df)\n",
    "    batch_df = get_video_df(batch_result_df)\n",
    "    batch_df = extract_video_data(batch_df)\n",
    "\n",
    "    if video_df is None:\n",
    "        video_df = batch_df\n",
    "    else:\n",
    "        video_df = pd.concat([video_df, batch_df])\n",
    "\n",
    "    if error_df is None:\n",
    "        error_df = batch_error_df\n",
    "    else:\n",
    "        error_df = pd.concat([error_df, batch_error_df])"
   ]
  },
  {
   "cell_type": "code",
   "execution_count": 5,
   "metadata": {},
   "outputs": [
    {
     "data": {
      "text/html": [
       "<div>\n",
       "<style scoped>\n",
       "    .dataframe tbody tr th:only-of-type {\n",
       "        vertical-align: middle;\n",
       "    }\n",
       "\n",
       "    .dataframe tbody tr th {\n",
       "        vertical-align: top;\n",
       "    }\n",
       "\n",
       "    .dataframe thead th {\n",
       "        text-align: right;\n",
       "    }\n",
       "</style>\n",
       "<table border=\"1\" class=\"dataframe\">\n",
       "  <thead>\n",
       "    <tr style=\"text-align: right;\">\n",
       "      <th></th>\n",
       "      <th>authorUniqueId</th>\n",
       "      <th>desc</th>\n",
       "      <th>commentCount</th>\n",
       "      <th>diggCount</th>\n",
       "      <th>shareCount</th>\n",
       "      <th>playCount</th>\n",
       "      <th>videoDuration</th>\n",
       "      <th>isImagePost</th>\n",
       "      <th>numImages</th>\n",
       "      <th>locationCreated</th>\n",
       "    </tr>\n",
       "  </thead>\n",
       "  <tbody>\n",
       "    <tr>\n",
       "      <th>1962</th>\n",
       "      <td>izaangarciiaa__</td>\n",
       "      <td>#foryougymtok #parati #cambiofisico #1year</td>\n",
       "      <td>2.0</td>\n",
       "      <td>53.0</td>\n",
       "      <td>0.0</td>\n",
       "      <td>1447.0</td>\n",
       "      <td>0.0</td>\n",
       "      <td>True</td>\n",
       "      <td>3</td>\n",
       "      <td>ES</td>\n",
       "    </tr>\n",
       "    <tr>\n",
       "      <th>1979</th>\n",
       "      <td>juju._books</td>\n",
       "      <td>#pourtoi #foryou #BookTok #Clubdeslecteurs #bo...</td>\n",
       "      <td>0.0</td>\n",
       "      <td>46.0</td>\n",
       "      <td>0.0</td>\n",
       "      <td>307.0</td>\n",
       "      <td>0.0</td>\n",
       "      <td>True</td>\n",
       "      <td>3</td>\n",
       "      <td>FR</td>\n",
       "    </tr>\n",
       "    <tr>\n",
       "      <th>2064</th>\n",
       "      <td>agya.chota.puruna</td>\n",
       "      <td></td>\n",
       "      <td>0.0</td>\n",
       "      <td>0.0</td>\n",
       "      <td>0.0</td>\n",
       "      <td>2.0</td>\n",
       "      <td>53.0</td>\n",
       "      <td>True</td>\n",
       "      <td>0</td>\n",
       "      <td>LT</td>\n",
       "    </tr>\n",
       "    <tr>\n",
       "      <th>2081</th>\n",
       "      <td>christos.a..chask</td>\n",
       "      <td></td>\n",
       "      <td>0.0</td>\n",
       "      <td>5.0</td>\n",
       "      <td>0.0</td>\n",
       "      <td>812.0</td>\n",
       "      <td>20.0</td>\n",
       "      <td>True</td>\n",
       "      <td>0</td>\n",
       "      <td>GR</td>\n",
       "    </tr>\n",
       "    <tr>\n",
       "      <th>2354</th>\n",
       "      <td>tocabocavideos50</td>\n",
       "      <td>#dúo con @tocabocaLHP #toca</td>\n",
       "      <td>0.0</td>\n",
       "      <td>9.0</td>\n",
       "      <td>0.0</td>\n",
       "      <td>77.0</td>\n",
       "      <td>63.0</td>\n",
       "      <td>True</td>\n",
       "      <td>0</td>\n",
       "      <td>DO</td>\n",
       "    </tr>\n",
       "  </tbody>\n",
       "</table>\n",
       "</div>"
      ],
      "text/plain": [
       "         authorUniqueId                                               desc  \\\n",
       "1962    izaangarciiaa__        #foryougymtok #parati #cambiofisico #1year    \n",
       "1979        juju._books  #pourtoi #foryou #BookTok #Clubdeslecteurs #bo...   \n",
       "2064  agya.chota.puruna                                                      \n",
       "2081  christos.a..chask                                                      \n",
       "2354   tocabocavideos50                       #dúo con @tocabocaLHP #toca    \n",
       "\n",
       "      commentCount  diggCount  shareCount  playCount  videoDuration  \\\n",
       "1962           2.0       53.0         0.0     1447.0            0.0   \n",
       "1979           0.0       46.0         0.0      307.0            0.0   \n",
       "2064           0.0        0.0         0.0        2.0           53.0   \n",
       "2081           0.0        5.0         0.0      812.0           20.0   \n",
       "2354           0.0        9.0         0.0       77.0           63.0   \n",
       "\n",
       "      isImagePost  numImages locationCreated  \n",
       "1962         True          3              ES  \n",
       "1979         True          3              FR  \n",
       "2064         True          0              LT  \n",
       "2081         True          0              GR  \n",
       "2354         True          0              DO  "
      ]
     },
     "execution_count": 5,
     "metadata": {},
     "output_type": "execute_result"
    }
   ],
   "source": [
    "df['desc'] = df['return'].map(lambda r: r['desc'])\n",
    "df['authorUniqueId'] = df['return'].map(lambda r: r['author']['uniqueId'] if r['author'] else None)\n",
    "df['commentCount'] = df['return'].map(lambda r: int(r['stats']['commentCount']) if r['stats'] else None)\n",
    "df['diggCount'] = df['return'].map(lambda r: int(r['stats']['diggCount']) if r['stats'] else None)\n",
    "df['shareCount'] = df['return'].map(lambda r: int(r['stats']['shareCount']) if r['stats'] else None)\n",
    "df['playCount'] = df['return'].map(lambda r: int(r['stats']['playCount']) if r['stats'] else None)\n",
    "df['videoDuration'] = df['return'].map(lambda r: r['video']['duration'])\n",
    "df['isImagePost'] = df['return'].map(lambda r: 'imagePost' in r)\n",
    "df['numImages'] = df['return'].map(lambda r: len(r['imagePost']['images']) if 'imagePost' in r and r['imagePost'] else 0)\n",
    "df['locationCreated'] = df['return'].map(lambda r: r['locationCreated'])\n",
    "df[['authorUniqueId', 'desc', 'commentCount', 'diggCount', 'shareCount', 'playCount', 'videoDuration', 'isImagePost', 'numImages', 'locationCreated']].head()"
   ]
  },
  {
   "cell_type": "code",
   "execution_count": 27,
   "metadata": {},
   "outputs": [
    {
     "name": "stdout",
     "output_type": "stream",
     "text": [
      "Number of unique users: 12497\n",
      "Average number of comments: 4.108892058963385\n",
      "Average number of likes: 152.07695355840863\n",
      "Average number of shares: 5.138135996195911\n",
      "Average number of plays: 2250.7939451577113\n",
      "Average video duration: 23.005468378506894\n"
     ]
    }
   ],
   "source": [
    "print(f\"Number of unique users: {len(df['authorUniqueId'].unique())}\")\n",
    "print(f\"Average number of comments: {df['commentCount'].mean()}\")\n",
    "print(f\"Average number of likes: {df['diggCount'].mean()}\")\n",
    "print(f\"Average number of shares: {df['shareCount'].mean()}\")\n",
    "print(f\"Average number of plays: {df['playCount'].mean()}\")\n",
    "print(f\"Average video duration: {df['videoDuration'].mean()}\")"
   ]
  },
  {
   "cell_type": "code",
   "execution_count": 6,
   "metadata": {},
   "outputs": [
    {
     "data": {
      "text/plain": [
       "locationCreated\n",
       "PK    1884\n",
       "US    1048\n",
       "BD     930\n",
       "ID     575\n",
       "SA     426\n",
       "      ... \n",
       "ME       1\n",
       "BI       1\n",
       "XK       1\n",
       "CV       1\n",
       "BS       1\n",
       "Name: count, Length: 161, dtype: int64"
      ]
     },
     "execution_count": 6,
     "metadata": {},
     "output_type": "execute_result"
    }
   ],
   "source": [
    "df['locationCreated'].value_counts()"
   ]
  },
  {
   "cell_type": "code",
   "execution_count": 42,
   "metadata": {},
   "outputs": [
    {
     "data": {
      "image/png": "[encoded data removed]",
      "text/plain": [
       "<Figure size 1800x300 with 5 Axes>"
      ]
     },
     "metadata": {},
     "output_type": "display_data"
    }
   ],
   "source": [
    "fig, axes = plt.subplots(nrows=1, ncols=5, figsize=(18, 3))\n",
    "cols = ['commentCount', 'diggCount', 'shareCount', 'playCount', 'videoDuration']\n",
    "titles = ['Comments', 'Likes', 'Shares', 'Plays', 'Video Duration']\n",
    "for i in range(5):\n",
    "    bins = 20\n",
    "    # col_data = df[df[cols[i]].notna()][cols[i]]\n",
    "    # hist, bins = np.histogram(col_data, bins=bins)\n",
    "    # logbins = np.logspace(np.log10(bins[0]),np.log10(bins[-1]),len(bins))\n",
    "    axes[i].hist(df[cols[i]], bins=20)#logbins)\n",
    "    axes[i].set_xscale('log')\n",
    "    axes[i].set_yscale('log')\n",
    "    axes[i].set_title(titles[i])\n",
    "\n",
    "plt.tight_layout()\n",
    "plt.show()"
   ]
  },
  {
   "cell_type": "code",
   "execution_count": 7,
   "metadata": {},
   "outputs": [
    {
     "name": "stdout",
     "output_type": "stream",
     "text": [
      "Couldn't find FAKE-AD\n"
     ]
    },
    {
     "data": {
      "application/vnd.plotly.v1+json": {
       "config": {
        "plotlyServerURL": "https://plot.ly"
       },
       "data": [
        {
         "coloraxis": "coloraxis",
         "geo": "geo",
         "hovertemplate": "iso_alpha=%{location}<br>count=%{z}<extra></extra>",
         "locations": [
          "ARE",
          "AFG",
          "ALB",
          "ARM",
          "AGO",
          "ARG",
          "ASM",
          "AUT",
          "AUS",
          "AZE",
          "BIH",
          "BGD",
          "BEL",
          "BFA",
          "BGR",
          "BHR",
          "BDI",
          "BEN",
          "BOL",
          "BRA",
          "BHS",
          "BTN",
          "BWA",
          "BLR",
          "BLZ",
          "CAN",
          "COD",
          "COG",
          "CHE",
          "CIV",
          "CHL",
          "CMR",
          "COL",
          "CRI",
          "CPV",
          "CYP",
          "CZE",
          "DEU",
          "DNK",
          "DOM",
          "DZA",
          "ECU",
          "EST",
          "EGY",
          "ESP",
          "ETH",
          null,
          "FIN",
          "FJI",
          "FRA",
          "GAB",
          "GBR",
          "GEO",
          "GHA",
          "GMB",
          "GIN",
          "GLP",
          "GNQ",
          "GRC",
          "GTM",
          "GNB",
          "GUY",
          "HND",
          "HRV",
          "HTI",
          "HUN",
          "IDN",
          "IRL",
          "ISR",
          "IND",
          "IRQ",
          "IRN",
          "ITA",
          "JAM",
          "JOR",
          "JPN",
          "KEN",
          "KGZ",
          "KHM",
          "KOR",
          "KWT",
          "KAZ",
          "LAO",
          "LBN",
          "LKA",
          "LBR",
          "LTU",
          "LVA",
          "LBY",
          "MAR",
          "MDA",
          "MNE",
          "MDG",
          "MKD",
          "MLI",
          "MMR",
          "MNG",
          "MRT",
          "MLT",
          "MUS",
          "MDV",
          "MWI",
          "MEX",
          "MYS",
          "MOZ",
          "NAM",
          "NER",
          "NGA",
          "NIC",
          "NLD",
          "NOR",
          "NPL",
          "OMN",
          "PAN",
          "PER",
          "PHL",
          "PAK",
          "POL",
          "PRI",
          "PRT",
          "PRY",
          "QAT",
          "ROU",
          "SRB",
          "RWA",
          "SAU",
          "SDN",
          "SWE",
          "SGP",
          "SVN",
          "SVK",
          "SLE",
          "SEN",
          "SOM",
          "SUR",
          "SSD",
          "STP",
          "SLV",
          "SWZ",
          "TCD",
          "TGO",
          "THA",
          "TJK",
          "TKM",
          "TUN",
          "TUR",
          "TTO",
          "TWN",
          "TZA",
          "UKR",
          "UGA",
          "USA",
          "URY",
          "UZB",
          "VEN",
          "VNM",
          "UNK",
          "YEM",
          "ZAF",
          "ZMB",
          "ZWE"
         ],
         "name": "",
         "type": "choropleth",
         "z": [
          276,
          16,
          7,
          13,
          18,
          93,
          1,
          14,
          8,
          108,
          5,
          930,
          30,
          17,
          21,
          23,
          1,
          24,
          36,
          393,
          1,
          2,
          7,
          48,
          3,
          59,
          42,
          11,
          16,
          88,
          61,
          20,
          178,
          6,
          1,
          7,
          16,
          160,
          4,
          79,
          148,
          148,
          3,
          210,
          127,
          109,
          18,
          12,
          2,
          158,
          7,
          187,
          26,
          64,
          7,
          17,
          1,
          3,
          19,
          81,
          3,
          5,
          36,
          5,
          11,
          26,
          575,
          19,
          44,
          8,
          367,
          10,
          161,
          33,
          30,
          7,
          116,
          39,
          23,
          5,
          69,
          159,
          15,
          61,
          48,
          16,
          5,
          5,
          70,
          59,
          19,
          1,
          6,
          2,
          42,
          83,
          1,
          10,
          3,
          4,
          5,
          1,
          253,
          71,
          16,
          3,
          6,
          376,
          35,
          51,
          6,
          34,
          35,
          12,
          159,
          91,
          1884,
          65,
          2,
          22,
          26,
          61,
          113,
          12,
          3,
          426,
          13,
          32,
          8,
          2,
          5,
          11,
          51,
          96,
          3,
          2,
          3,
          27,
          1,
          4,
          9,
          119,
          7,
          4,
          57,
          311,
          4,
          16,
          14,
          159,
          76,
          1048,
          8,
          37,
          125,
          81,
          1,
          9,
          92,
          20,
          4
         ]
        }
       ],
       "layout": {
        "coloraxis": {
         "colorbar": {
          "title": {
           "text": "count"
          }
         },
         "colorscale": [
          [
           0,
           "#0d0887"
          ],
          [
           0.1111111111111111,
           "#46039f"
          ],
          [
           0.2222222222222222,
           "#7201a8"
          ],
          [
           0.3333333333333333,
           "#9c179e"
          ],
          [
           0.4444444444444444,
           "#bd3786"
          ],
          [
           0.5555555555555556,
           "#d8576b"
          ],
          [
           0.6666666666666666,
           "#ed7953"
          ],
          [
           0.7777777777777778,
           "#fb9f3a"
          ],
          [
           0.8888888888888888,
           "#fdca26"
          ],
          [
           1,
           "#f0f921"
          ]
         ]
        },
        "geo": {
         "center": {},
         "domain": {
          "x": [
           0,
           1
          ],
          "y": [
           0,
           1
          ]
         }
        },
        "legend": {
         "tracegroupgap": 0
        },
        "margin": {
         "t": 60
        },
        "template": {
         "data": {
          "bar": [
           {
            "error_x": {
             "color": "#2a3f5f"
            },
            "error_y": {
             "color": "#2a3f5f"
            },
            "marker": {
             "line": {
              "color": "#E5ECF6",
              "width": 0.5
             },
             "pattern": {
              "fillmode": "overlay",
              "size": 10,
              "solidity": 0.2
             }
            },
            "type": "bar"
           }
          ],
          "barpolar": [
           {
            "marker": {
             "line": {
              "color": "#E5ECF6",
              "width": 0.5
             },
             "pattern": {
              "fillmode": "overlay",
              "size": 10,
              "solidity": 0.2
             }
            },
            "type": "barpolar"
           }
          ],
          "carpet": [
           {
            "aaxis": {
             "endlinecolor": "#2a3f5f",
             "gridcolor": "white",
             "linecolor": "white",
             "minorgridcolor": "white",
             "startlinecolor": "#2a3f5f"
            },
            "baxis": {
             "endlinecolor": "#2a3f5f",
             "gridcolor": "white",
             "linecolor": "white",
             "minorgridcolor": "white",
             "startlinecolor": "#2a3f5f"
            },
            "type": "carpet"
           }
          ],
          "choropleth": [
           {
            "colorbar": {
             "outlinewidth": 0,
             "ticks": ""
            },
            "type": "choropleth"
           }
          ],
          "contour": [
           {
            "colorbar": {
             "outlinewidth": 0,
             "ticks": ""
            },
            "colorscale": [
             [
              0,
              "#0d0887"
             ],
             [
              0.1111111111111111,
              "#46039f"
             ],
             [
              0.2222222222222222,
              "#7201a8"
             ],
             [
              0.3333333333333333,
              "#9c179e"
             ],
             [
              0.4444444444444444,
              "#bd3786"
             ],
             [
              0.5555555555555556,
              "#d8576b"
             ],
             [
              0.6666666666666666,
              "#ed7953"
             ],
             [
              0.7777777777777778,
              "#fb9f3a"
             ],
             [
              0.8888888888888888,
              "#fdca26"
             ],
             [
              1,
              "#f0f921"
             ]
            ],
            "type": "contour"
           }
          ],
          "contourcarpet": [
           {
            "colorbar": {
             "outlinewidth": 0,
             "ticks": ""
            },
            "type": "contourcarpet"
           }
          ],
          "heatmap": [
           {
            "colorbar": {
             "outlinewidth": 0,
             "ticks": ""
            },
            "colorscale": [
             [
              0,
              "#0d0887"
             ],
             [
              0.1111111111111111,
              "#46039f"
             ],
             [
              0.2222222222222222,
              "#7201a8"
             ],
             [
              0.3333333333333333,
              "#9c179e"
             ],
             [
              0.4444444444444444,
              "#bd3786"
             ],
             [
              0.5555555555555556,
              "#d8576b"
             ],
             [
              0.6666666666666666,
              "#ed7953"
             ],
             [
              0.7777777777777778,
              "#fb9f3a"
             ],
             [
              0.8888888888888888,
              "#fdca26"
             ],
             [
              1,
              "#f0f921"
             ]
            ],
            "type": "heatmap"
           }
          ],
          "heatmapgl": [
           {
            "colorbar": {
             "outlinewidth": 0,
             "ticks": ""
            },
            "colorscale": [
             [
              0,
              "#0d0887"
             ],
             [
              0.1111111111111111,
              "#46039f"
             ],
             [
              0.2222222222222222,
              "#7201a8"
             ],
             [
              0.3333333333333333,
              "#9c179e"
             ],
             [
              0.4444444444444444,
              "#bd3786"
             ],
             [
              0.5555555555555556,
              "#d8576b"
             ],
             [
              0.6666666666666666,
              "#ed7953"
             ],
             [
              0.7777777777777778,
              "#fb9f3a"
             ],
             [
              0.8888888888888888,
              "#fdca26"
             ],
             [
              1,
              "#f0f921"
             ]
            ],
            "type": "heatmapgl"
           }
          ],
          "histogram": [
           {
            "marker": {
             "pattern": {
              "fillmode": "overlay",
              "size": 10,
              "solidity": 0.2
             }
            },
            "type": "histogram"
           }
          ],
          "histogram2d": [
           {
            "colorbar": {
             "outlinewidth": 0,
             "ticks": ""
            },
            "colorscale": [
             [
              0,
              "#0d0887"
             ],
             [
              0.1111111111111111,
              "#46039f"
             ],
             [
              0.2222222222222222,
              "#7201a8"
             ],
             [
              0.3333333333333333,
              "#9c179e"
             ],
             [
              0.4444444444444444,
              "#bd3786"
             ],
             [
              0.5555555555555556,
              "#d8576b"
             ],
             [
              0.6666666666666666,
              "#ed7953"
             ],
             [
              0.7777777777777778,
              "#fb9f3a"
             ],
             [
              0.8888888888888888,
              "#fdca26"
             ],
             [
              1,
              "#f0f921"
             ]
            ],
            "type": "histogram2d"
           }
          ],
          "histogram2dcontour": [
           {
            "colorbar": {
             "outlinewidth": 0,
             "ticks": ""
            },
            "colorscale": [
             [
              0,
              "#0d0887"
             ],
             [
              0.1111111111111111,
              "#46039f"
             ],
             [
              0.2222222222222222,
              "#7201a8"
             ],
             [
              0.3333333333333333,
              "#9c179e"
             ],
             [
              0.4444444444444444,
              "#bd3786"
             ],
             [
              0.5555555555555556,
              "#d8576b"
             ],
             [
              0.6666666666666666,
              "#ed7953"
             ],
             [
              0.7777777777777778,
              "#fb9f3a"
             ],
             [
              0.8888888888888888,
              "#fdca26"
             ],
             [
              1,
              "#f0f921"
             ]
            ],
            "type": "histogram2dcontour"
           }
          ],
          "mesh3d": [
           {
            "colorbar": {
             "outlinewidth": 0,
             "ticks": ""
            },
            "type": "mesh3d"
           }
          ],
          "parcoords": [
           {
            "line": {
             "colorbar": {
              "outlinewidth": 0,
              "ticks": ""
             }
            },
            "type": "parcoords"
           }
          ],
          "pie": [
           {
            "automargin": true,
            "type": "pie"
           }
          ],
          "scatter": [
           {
            "fillpattern": {
             "fillmode": "overlay",
             "size": 10,
             "solidity": 0.2
            },
            "type": "scatter"
           }
          ],
          "scatter3d": [
           {
            "line": {
             "colorbar": {
              "outlinewidth": 0,
              "ticks": ""
             }
            },
            "marker": {
             "colorbar": {
              "outlinewidth": 0,
              "ticks": ""
             }
            },
            "type": "scatter3d"
           }
          ],
          "scattercarpet": [
           {
            "marker": {
             "colorbar": {
              "outlinewidth": 0,
              "ticks": ""
             }
            },
            "type": "scattercarpet"
           }
          ],
          "scattergeo": [
           {
            "marker": {
             "colorbar": {
              "outlinewidth": 0,
              "ticks": ""
             }
            },
            "type": "scattergeo"
           }
          ],
          "scattergl": [
           {
            "marker": {
             "colorbar": {
              "outlinewidth": 0,
              "ticks": ""
             }
            },
            "type": "scattergl"
           }
          ],
          "scattermapbox": [
           {
            "marker": {
             "colorbar": {
              "outlinewidth": 0,
              "ticks": ""
             }
            },
            "type": "scattermapbox"
           }
          ],
          "scatterpolar": [
           {
            "marker": {
             "colorbar": {
              "outlinewidth": 0,
              "ticks": ""
             }
            },
            "type": "scatterpolar"
           }
          ],
          "scatterpolargl": [
           {
            "marker": {
             "colorbar": {
              "outlinewidth": 0,
              "ticks": ""
             }
            },
            "type": "scatterpolargl"
           }
          ],
          "scatterternary": [
           {
            "marker": {
             "colorbar": {
              "outlinewidth": 0,
              "ticks": ""
             }
            },
            "type": "scatterternary"
           }
          ],
          "surface": [
           {
            "colorbar": {
             "outlinewidth": 0,
             "ticks": ""
            },
            "colorscale": [
             [
              0,
              "#0d0887"
             ],
             [
              0.1111111111111111,
              "#46039f"
             ],
             [
              0.2222222222222222,
              "#7201a8"
             ],
             [
              0.3333333333333333,
              "#9c179e"
             ],
             [
              0.4444444444444444,
              "#bd3786"
             ],
             [
              0.5555555555555556,
              "#d8576b"
             ],
             [
              0.6666666666666666,
              "#ed7953"
             ],
             [
              0.7777777777777778,
              "#fb9f3a"
             ],
             [
              0.8888888888888888,
              "#fdca26"
             ],
             [
              1,
              "#f0f921"
             ]
            ],
            "type": "surface"
           }
          ],
          "table": [
           {
            "cells": {
             "fill": {
              "color": "#EBF0F8"
             },
             "line": {
              "color": "white"
             }
            },
            "header": {
             "fill": {
              "color": "#C8D4E3"
             },
             "line": {
              "color": "white"
             }
            },
            "type": "table"
           }
          ]
         },
         "layout": {
          "annotationdefaults": {
           "arrowcolor": "#2a3f5f",
           "arrowhead": 0,
           "arrowwidth": 1
          },
          "autotypenumbers": "strict",
          "coloraxis": {
           "colorbar": {
            "outlinewidth": 0,
            "ticks": ""
           }
          },
          "colorscale": {
           "diverging": [
            [
             0,
             "#8e0152"
            ],
            [
             0.1,
             "#c51b7d"
            ],
            [
             0.2,
             "#de77ae"
            ],
            [
             0.3,
             "#f1b6da"
            ],
            [
             0.4,
             "#fde0ef"
            ],
            [
             0.5,
             "#f7f7f7"
            ],
            [
             0.6,
             "#e6f5d0"
            ],
            [
             0.7,
             "#b8e186"
            ],
            [
             0.8,
             "#7fbc41"
            ],
            [
             0.9,
             "#4d9221"
            ],
            [
             1,
             "#276419"
            ]
           ],
           "sequential": [
            [
             0,
             "#0d0887"
            ],
            [
             0.1111111111111111,
             "#46039f"
            ],
            [
             0.2222222222222222,
             "#7201a8"
            ],
            [
             0.3333333333333333,
             "#9c179e"
            ],
            [
             0.4444444444444444,
             "#bd3786"
            ],
            [
             0.5555555555555556,
             "#d8576b"
            ],
            [
             0.6666666666666666,
             "#ed7953"
            ],
            [
             0.7777777777777778,
             "#fb9f3a"
            ],
            [
             0.8888888888888888,
             "#fdca26"
            ],
            [
             1,
             "#f0f921"
            ]
           ],
           "sequentialminus": [
            [
             0,
             "#0d0887"
            ],
            [
             0.1111111111111111,
             "#46039f"
            ],
            [
             0.2222222222222222,
             "#7201a8"
            ],
            [
             0.3333333333333333,
             "#9c179e"
            ],
            [
             0.4444444444444444,
             "#bd3786"
            ],
            [
             0.5555555555555556,
             "#d8576b"
            ],
            [
             0.6666666666666666,
             "#ed7953"
            ],
            [
             0.7777777777777778,
             "#fb9f3a"
            ],
            [
             0.8888888888888888,
             "#fdca26"
            ],
            [
             1,
             "#f0f921"
            ]
           ]
          },
          "colorway": [
           "#636efa",
           "#EF553B",
           "#00cc96",
           "#ab63fa",
           "#FFA15A",
           "#19d3f3",
           "#FF6692",
           "#B6E880",
           "#FF97FF",
           "#FECB52"
          ],
          "font": {
           "color": "#2a3f5f"
          },
          "geo": {
           "bgcolor": "white",
           "lakecolor": "white",
           "landcolor": "#E5ECF6",
           "showlakes": true,
           "showland": true,
           "subunitcolor": "white"
          },
          "hoverlabel": {
           "align": "left"
          },
          "hovermode": "closest",
          "mapbox": {
           "style": "light"
          },
          "paper_bgcolor": "white",
          "plot_bgcolor": "#E5ECF6",
          "polar": {
           "angularaxis": {
            "gridcolor": "white",
            "linecolor": "white",
            "ticks": ""
           },
           "bgcolor": "#E5ECF6",
           "radialaxis": {
            "gridcolor": "white",
            "linecolor": "white",
            "ticks": ""
           }
          },
          "scene": {
           "xaxis": {
            "backgroundcolor": "#E5ECF6",
            "gridcolor": "white",
            "gridwidth": 2,
            "linecolor": "white",
            "showbackground": true,
            "ticks": "",
            "zerolinecolor": "white"
           },
           "yaxis": {
            "backgroundcolor": "#E5ECF6",
            "gridcolor": "white",
            "gridwidth": 2,
            "linecolor": "white",
            "showbackground": true,
            "ticks": "",
            "zerolinecolor": "white"
           },
           "zaxis": {
            "backgroundcolor": "#E5ECF6",
            "gridcolor": "white",
            "gridwidth": 2,
            "linecolor": "white",
            "showbackground": true,
            "ticks": "",
            "zerolinecolor": "white"
           }
          },
          "shapedefaults": {
           "line": {
            "color": "#2a3f5f"
           }
          },
          "ternary": {
           "aaxis": {
            "gridcolor": "white",
            "linecolor": "white",
            "ticks": ""
           },
           "baxis": {
            "gridcolor": "white",
            "linecolor": "white",
            "ticks": ""
           },
           "bgcolor": "#E5ECF6",
           "caxis": {
            "gridcolor": "white",
            "linecolor": "white",
            "ticks": ""
           }
          },
          "title": {
           "x": 0.05
          },
          "xaxis": {
           "automargin": true,
           "gridcolor": "white",
           "linecolor": "white",
           "ticks": "",
           "title": {
            "standoff": 15
           },
           "zerolinecolor": "white",
           "zerolinewidth": 2
          },
          "yaxis": {
           "automargin": true,
           "gridcolor": "white",
           "linecolor": "white",
           "ticks": "",
           "title": {
            "standoff": 15
           },
           "zerolinecolor": "white",
           "zerolinewidth": 2
          }
         }
        }
       }
      }
     },
     "metadata": {},
     "output_type": "display_data"
    }
   ],
   "source": [
    "country_df = df[['id', 'locationCreated']].groupby('locationCreated').count().reset_index()\n",
    "country_df['count'] = country_df['id']\n",
    "country_df = country_df[country_df['locationCreated'].map(lambda c: c is not None)]\n",
    "def get_alpha_3(alpha_2):\n",
    "    try:\n",
    "        return pycountry.countries.get(alpha_2=alpha_2).alpha_3\n",
    "    except:\n",
    "        extra_map = {\n",
    "            'XK': 'UNK'\n",
    "        }\n",
    "        if alpha_2 in extra_map:\n",
    "            return extra_map[alpha_2]\n",
    "        else:\n",
    "            print(f\"Couldn't find {alpha_2}\")\n",
    "            return None\n",
    "country_df['iso_alpha'] = country_df['locationCreated'].map(get_alpha_3)\n",
    "fig = px.choropleth(country_df, locations=\"iso_alpha\",\n",
    "                    color=\"count\", # lifeExp is a column of gapminder\n",
    "                    # hover_name=\"country\", # column to add to hover information\n",
    "                    color_continuous_scale=px.colors.sequential.Plasma)\n",
    "fig.show()"
   ]
  },
  {
   "cell_type": "code",
   "execution_count": 11,
   "metadata": {},
   "outputs": [
    {
     "data": {
      "text/html": [
       "<div>\n",
       "<style scoped>\n",
       "    .dataframe tbody tr th:only-of-type {\n",
       "        vertical-align: middle;\n",
       "    }\n",
       "\n",
       "    .dataframe tbody tr th {\n",
       "        vertical-align: top;\n",
       "    }\n",
       "\n",
       "    .dataframe thead th {\n",
       "        text-align: right;\n",
       "    }\n",
       "</style>\n",
       "<table border=\"1\" class=\"dataframe\">\n",
       "  <thead>\n",
       "    <tr style=\"text-align: right;\">\n",
       "      <th></th>\n",
       "      <th>Country Name</th>\n",
       "      <th>Country Code</th>\n",
       "      <th>Indicator Name</th>\n",
       "      <th>Indicator Code</th>\n",
       "      <th>1960</th>\n",
       "      <th>1961</th>\n",
       "      <th>1962</th>\n",
       "      <th>1963</th>\n",
       "      <th>1964</th>\n",
       "      <th>1965</th>\n",
       "      <th>...</th>\n",
       "      <th>2015</th>\n",
       "      <th>2016</th>\n",
       "      <th>2017</th>\n",
       "      <th>2018</th>\n",
       "      <th>2019</th>\n",
       "      <th>2020</th>\n",
       "      <th>2021</th>\n",
       "      <th>2022</th>\n",
       "      <th>2023</th>\n",
       "      <th>Unnamed: 68</th>\n",
       "    </tr>\n",
       "  </thead>\n",
       "  <tbody>\n",
       "    <tr>\n",
       "      <th>0</th>\n",
       "      <td>Aruba</td>\n",
       "      <td>ABW</td>\n",
       "      <td>Population, total</td>\n",
       "      <td>SP.POP.TOTL</td>\n",
       "      <td>54608.0</td>\n",
       "      <td>55811.0</td>\n",
       "      <td>56682.0</td>\n",
       "      <td>57475.0</td>\n",
       "      <td>58178.0</td>\n",
       "      <td>58782.0</td>\n",
       "      <td>...</td>\n",
       "      <td>104257.0</td>\n",
       "      <td>104874.0</td>\n",
       "      <td>105439.0</td>\n",
       "      <td>105962.0</td>\n",
       "      <td>106442.0</td>\n",
       "      <td>106585.0</td>\n",
       "      <td>106537.0</td>\n",
       "      <td>106445.0</td>\n",
       "      <td>NaN</td>\n",
       "      <td>NaN</td>\n",
       "    </tr>\n",
       "    <tr>\n",
       "      <th>1</th>\n",
       "      <td>Africa Eastern and Southern</td>\n",
       "      <td>AFE</td>\n",
       "      <td>Population, total</td>\n",
       "      <td>SP.POP.TOTL</td>\n",
       "      <td>130692579.0</td>\n",
       "      <td>134169237.0</td>\n",
       "      <td>137835590.0</td>\n",
       "      <td>141630546.0</td>\n",
       "      <td>145605995.0</td>\n",
       "      <td>149742351.0</td>\n",
       "      <td>...</td>\n",
       "      <td>600008424.0</td>\n",
       "      <td>616377605.0</td>\n",
       "      <td>632746570.0</td>\n",
       "      <td>649757148.0</td>\n",
       "      <td>667242986.0</td>\n",
       "      <td>685112979.0</td>\n",
       "      <td>702977106.0</td>\n",
       "      <td>720859132.0</td>\n",
       "      <td>NaN</td>\n",
       "      <td>NaN</td>\n",
       "    </tr>\n",
       "    <tr>\n",
       "      <th>2</th>\n",
       "      <td>Afghanistan</td>\n",
       "      <td>AFG</td>\n",
       "      <td>Population, total</td>\n",
       "      <td>SP.POP.TOTL</td>\n",
       "      <td>8622466.0</td>\n",
       "      <td>8790140.0</td>\n",
       "      <td>8969047.0</td>\n",
       "      <td>9157465.0</td>\n",
       "      <td>9355514.0</td>\n",
       "      <td>9565147.0</td>\n",
       "      <td>...</td>\n",
       "      <td>33753499.0</td>\n",
       "      <td>34636207.0</td>\n",
       "      <td>35643418.0</td>\n",
       "      <td>36686784.0</td>\n",
       "      <td>37769499.0</td>\n",
       "      <td>38972230.0</td>\n",
       "      <td>40099462.0</td>\n",
       "      <td>41128771.0</td>\n",
       "      <td>NaN</td>\n",
       "      <td>NaN</td>\n",
       "    </tr>\n",
       "    <tr>\n",
       "      <th>3</th>\n",
       "      <td>Africa Western and Central</td>\n",
       "      <td>AFW</td>\n",
       "      <td>Population, total</td>\n",
       "      <td>SP.POP.TOTL</td>\n",
       "      <td>97256290.0</td>\n",
       "      <td>99314028.0</td>\n",
       "      <td>101445032.0</td>\n",
       "      <td>103667517.0</td>\n",
       "      <td>105959979.0</td>\n",
       "      <td>108336203.0</td>\n",
       "      <td>...</td>\n",
       "      <td>408690375.0</td>\n",
       "      <td>419778384.0</td>\n",
       "      <td>431138704.0</td>\n",
       "      <td>442646825.0</td>\n",
       "      <td>454306063.0</td>\n",
       "      <td>466189102.0</td>\n",
       "      <td>478185907.0</td>\n",
       "      <td>490330870.0</td>\n",
       "      <td>NaN</td>\n",
       "      <td>NaN</td>\n",
       "    </tr>\n",
       "    <tr>\n",
       "      <th>4</th>\n",
       "      <td>Angola</td>\n",
       "      <td>AGO</td>\n",
       "      <td>Population, total</td>\n",
       "      <td>SP.POP.TOTL</td>\n",
       "      <td>5357195.0</td>\n",
       "      <td>5441333.0</td>\n",
       "      <td>5521400.0</td>\n",
       "      <td>5599827.0</td>\n",
       "      <td>5673199.0</td>\n",
       "      <td>5736582.0</td>\n",
       "      <td>...</td>\n",
       "      <td>28127721.0</td>\n",
       "      <td>29154746.0</td>\n",
       "      <td>30208628.0</td>\n",
       "      <td>31273533.0</td>\n",
       "      <td>32353588.0</td>\n",
       "      <td>33428486.0</td>\n",
       "      <td>34503774.0</td>\n",
       "      <td>35588987.0</td>\n",
       "      <td>NaN</td>\n",
       "      <td>NaN</td>\n",
       "    </tr>\n",
       "  </tbody>\n",
       "</table>\n",
       "<p>5 rows × 69 columns</p>\n",
       "</div>"
      ],
      "text/plain": [
       "                  Country Name Country Code     Indicator Name Indicator Code  \\\n",
       "0                        Aruba          ABW  Population, total    SP.POP.TOTL   \n",
       "1  Africa Eastern and Southern          AFE  Population, total    SP.POP.TOTL   \n",
       "2                  Afghanistan          AFG  Population, total    SP.POP.TOTL   \n",
       "3   Africa Western and Central          AFW  Population, total    SP.POP.TOTL   \n",
       "4                       Angola          AGO  Population, total    SP.POP.TOTL   \n",
       "\n",
       "          1960         1961         1962         1963         1964  \\\n",
       "0      54608.0      55811.0      56682.0      57475.0      58178.0   \n",
       "1  130692579.0  134169237.0  137835590.0  141630546.0  145605995.0   \n",
       "2    8622466.0    8790140.0    8969047.0    9157465.0    9355514.0   \n",
       "3   97256290.0   99314028.0  101445032.0  103667517.0  105959979.0   \n",
       "4    5357195.0    5441333.0    5521400.0    5599827.0    5673199.0   \n",
       "\n",
       "          1965  ...         2015         2016         2017         2018  \\\n",
       "0      58782.0  ...     104257.0     104874.0     105439.0     105962.0   \n",
       "1  149742351.0  ...  600008424.0  616377605.0  632746570.0  649757148.0   \n",
       "2    9565147.0  ...   33753499.0   34636207.0   35643418.0   36686784.0   \n",
       "3  108336203.0  ...  408690375.0  419778384.0  431138704.0  442646825.0   \n",
       "4    5736582.0  ...   28127721.0   29154746.0   30208628.0   31273533.0   \n",
       "\n",
       "          2019         2020         2021         2022  2023  Unnamed: 68  \n",
       "0     106442.0     106585.0     106537.0     106445.0   NaN          NaN  \n",
       "1  667242986.0  685112979.0  702977106.0  720859132.0   NaN          NaN  \n",
       "2   37769499.0   38972230.0   40099462.0   41128771.0   NaN          NaN  \n",
       "3  454306063.0  466189102.0  478185907.0  490330870.0   NaN          NaN  \n",
       "4   32353588.0   33428486.0   34503774.0   35588987.0   NaN          NaN  \n",
       "\n",
       "[5 rows x 69 columns]"
      ]
     },
     "execution_count": 11,
     "metadata": {},
     "output_type": "execute_result"
    }
   ],
   "source": [
    "pop_df = pd.read_csv(os.path.join('..', 'data', 'worlddata', 'API_SP.POP.TOTL_DS2_en_csv_v2_281770', 'API_SP.POP.TOTL_DS2_en_csv_v2_281770.csv'), header=2)\n",
    "pop_df.head()"
   ]
  },
  {
   "cell_type": "code",
   "execution_count": 12,
   "metadata": {},
   "outputs": [
    {
     "data": {
      "application/vnd.plotly.v1+json": {
       "config": {
        "plotlyServerURL": "https://plot.ly"
       },
       "data": [
        {
         "coloraxis": "coloraxis",
         "geo": "geo",
         "hovertemplate": "iso_alpha=%{location}<br>count_per_capita=%{z}<extra></extra>",
         "locations": [
          "ARE",
          "AFG",
          "ALB",
          "ARM",
          "AGO",
          "ARG",
          "ASM",
          "AUT",
          "AUS",
          "AZE",
          "BIH",
          "BGD",
          "BEL",
          "BFA",
          "BGR",
          "BHR",
          "BDI",
          "BEN",
          "BOL",
          "BRA",
          "BHS",
          "BTN",
          "BWA",
          "BLR",
          "BLZ",
          "CAN",
          "COD",
          "COG",
          "CHE",
          "CIV",
          "CHL",
          "CMR",
          "COL",
          "CRI",
          "CPV",
          "CYP",
          "CZE",
          "DEU",
          "DNK",
          "DOM",
          "DZA",
          "ECU",
          "EST",
          "EGY",
          "ESP",
          "ETH",
          null,
          "FIN",
          "FJI",
          "FRA",
          "GAB",
          "GBR",
          "GEO",
          "GHA",
          "GMB",
          "GIN",
          "GLP",
          "GNQ",
          "GRC",
          "GTM",
          "GNB",
          "GUY",
          "HND",
          "HRV",
          "HTI",
          "HUN",
          "IDN",
          "IRL",
          "ISR",
          "IND",
          "IRQ",
          "IRN",
          "ITA",
          "JAM",
          "JOR",
          "JPN",
          "KEN",
          "KGZ",
          "KHM",
          "KOR",
          "KWT",
          "KAZ",
          "LAO",
          "LBN",
          "LKA",
          "LBR",
          "LTU",
          "LVA",
          "LBY",
          "MAR",
          "MDA",
          "MNE",
          "MDG",
          "MKD",
          "MLI",
          "MMR",
          "MNG",
          "MRT",
          "MLT",
          "MUS",
          "MDV",
          "MWI",
          "MEX",
          "MYS",
          "MOZ",
          "NAM",
          "NER",
          "NGA",
          "NIC",
          "NLD",
          "NOR",
          "NPL",
          "OMN",
          "PAN",
          "PER",
          "PHL",
          "PAK",
          "POL",
          "PRI",
          "PRT",
          "PRY",
          "QAT",
          "ROU",
          "SRB",
          "RWA",
          "SAU",
          "SDN",
          "SWE",
          "SGP",
          "SVN",
          "SVK",
          "SLE",
          "SEN",
          "SOM",
          "SUR",
          "SSD",
          "STP",
          "SLV",
          "SWZ",
          "TCD",
          "TGO",
          "THA",
          "TJK",
          "TKM",
          "TUN",
          "TUR",
          "TTO",
          "TWN",
          "TZA",
          "UKR",
          "UGA",
          "USA",
          "URY",
          "UZB",
          "VEN",
          "VNM",
          "UNK",
          "YEM",
          "ZAF",
          "ZMB",
          "ZWE"
         ],
         "name": "",
         "type": "choropleth",
         "z": [
          0.002592888346094227,
          2.219573740518279e-8,
          1.701971595504276e-7,
          2.651270967296022e-8,
          5.057744408403645e-7,
          0.00003348107005499896,
          0.000012527560633393466,
          3.0127941704602016e-8,
          8.473562854611986e-7,
          0.0000023359013107650662,
          0.0000017982577759363617,
          0.02100603076367086,
          0.0003199556328189158,
          6.537068639989787e-7,
          0.000002322533295450235,
          0.0000022678518394644873,
          7.758207096959589e-8,
          0.000002053772206198045,
          0.0000026960508247519033,
          0.00001733280961491966,
          5.841586501990941e-9,
          3.0935344048202214e-7,
          0.000004754682173270128,
          0.0001170777396191071,
          9.277797673499455e-7,
          0.000006393535550387508,
          0.00010363410252867211,
          0.00017314109425171567,
          0.0000013088887452747072,
          4.087063784547312e-7,
          0.00021659239796190105,
          0.00004454323143326756,
          0.00022748912078010875,
          0.000002281112087765027,
          1.7923896569079413e-7,
          1.798103678760866e-7,
          1.598270335859829e-7,
          0.00001823203916242012,
          0.00002297807317367402,
          0.000004029844723961502,
          1.048028749977871e-7,
          0.0000052555806631846786,
          1.0747088900205971e-7,
          0.000002120993337535728,
          0.000021271521084599688,
          0.000002101244353050382,
          0.000021511184620937076,
          0.000020231004351351853,
          3.860386050186177e-7,
          0.000021051290803863526,
          6.243204383514337e-7,
          0.0012466999119976532,
          0.00037842400954792883,
          0.000051139123986806105,
          6.559147865493991e-7,
          2.0286883986530224e-7,
          8.921808379183993e-7,
          0.00004124448355032514,
          0.000003218682180037157,
          0.0000072135801256427545,
          6.681034602748467e-8,
          2.3483967513695895e-9,
          1.0442656516998604e-8,
          2.1051193831158835e-9,
          2.765036927508059e-8,
          2.824933744873158e-8,
          0.00003194266985167491,
          1.7118643452380615e-7,
          1.2631645030816636e-7,
          0.000002171533797752028,
          0.000007681304959527686,
          0.000007413777764597729,
          0.0000013049124588535166,
          7.376436144617579e-8,
          2.9436605333622052e-8,
          0.000001259875171568001,
          0.0001247625746693254,
          5.737714842663547e-7,
          0.00043322659634582785,
          0.00004379664342524789,
          0.000028882474282040293,
          0.00000237414794779174,
          0.0000040404018637565715,
          0.0000018222080561311776,
          0.0014701828539924653,
          0.0000011544560452044581,
          0.000001847751212863896,
          0.000002374658405388385,
          0.00004179334029092941,
          0.0000056584308365683095,
          0.0001514692517418964,
          0.0000176488237059,
          3.4566421279642005e-7,
          0.00001164320560736782,
          0.0000519335349673437,
          6.670069666563234e-8,
          1.3612665223724153e-7,
          9.585099387895553e-7,
          3.3925586162772077e-9,
          0.0000010374520178441748,
          4.3159272562545553e-7,
          1.0370165117917074e-7,
          5.148673524040445e-8,
          1.0512242367204065e-8,
          8.69497665928617e-9,
          4.9363542030805065e-9,
          2.177847854307525e-8,
          3.0509401966370877e-7,
          0.00041410807037470866,
          3.598713338048772e-8,
          null,
          0.000006631338535683428,
          3.952543727273579e-7,
          2.696864234595545e-7,
          0.00041622709769295005,
          0.000009521318336385038,
          0.00003196447938744927,
          0.000022989505821119717,
          1.7721276048835938e-7,
          1.7582419128124758e-7,
          0.0000013250452095232834,
          0.0000011290549197670438,
          0.000016200949117550074,
          7.156555983769408e-7,
          0.00002286027798098025,
          0.008938875716054305,
          2.518007774717021e-7,
          0.000007496123684166758,
          1.340938791750957e-8,
          2.6562276918377444e-7,
          9.107901122439519e-7,
          0.0000020744223535226804,
          0.000007486413260874639,
          0.0005337573739137203,
          4.550207692410037e-9,
          1.7787311792709615e-9,
          4.263011017628348e-9,
          0.0006865512243496835,
          4.508363013389838e-8,
          1.253846094922621e-9,
          1.3476523308146966e-9,
          0.00005160842648509753,
          3.0100498370038448e-9,
          0.0000014126094463312591,
          0.00008727566708467117,
          0.00016547984099036757,
          0.000005754004787331983,
          0.0005032870938315875,
          3.7375222486023066e-7,
          0.004359867284543037,
          0.000029934294224177928,
          0.000035391399498185076,
          0.000015273384028240486,
          7.500818972865055e-8,
          9.8036043931912e-7,
          0.0019485674420842455,
          1.6737655689618528e-10,
          0.000004373860062721154,
          0.0000040719513809005125,
          0.0000376567698399399,
          7.382892649086351e-8
         ]
        }
       ],
       "layout": {
        "coloraxis": {
         "colorbar": {
          "title": {
           "text": "count_per_capita"
          }
         },
         "colorscale": [
          [
           0,
           "#0d0887"
          ],
          [
           0.1111111111111111,
           "#46039f"
          ],
          [
           0.2222222222222222,
           "#7201a8"
          ],
          [
           0.3333333333333333,
           "#9c179e"
          ],
          [
           0.4444444444444444,
           "#bd3786"
          ],
          [
           0.5555555555555556,
           "#d8576b"
          ],
          [
           0.6666666666666666,
           "#ed7953"
          ],
          [
           0.7777777777777778,
           "#fb9f3a"
          ],
          [
           0.8888888888888888,
           "#fdca26"
          ],
          [
           1,
           "#f0f921"
          ]
         ]
        },
        "geo": {
         "center": {},
         "domain": {
          "x": [
           0,
           1
          ],
          "y": [
           0,
           1
          ]
         }
        },
        "legend": {
         "tracegroupgap": 0
        },
        "margin": {
         "t": 60
        },
        "template": {
         "data": {
          "bar": [
           {
            "error_x": {
             "color": "#2a3f5f"
            },
            "error_y": {
             "color": "#2a3f5f"
            },
            "marker": {
             "line": {
              "color": "#E5ECF6",
              "width": 0.5
             },
             "pattern": {
              "fillmode": "overlay",
              "size": 10,
              "solidity": 0.2
             }
            },
            "type": "bar"
           }
          ],
          "barpolar": [
           {
            "marker": {
             "line": {
              "color": "#E5ECF6",
              "width": 0.5
             },
             "pattern": {
              "fillmode": "overlay",
              "size": 10,
              "solidity": 0.2
             }
            },
            "type": "barpolar"
           }
          ],
          "carpet": [
           {
            "aaxis": {
             "endlinecolor": "#2a3f5f",
             "gridcolor": "white",
             "linecolor": "white",
             "minorgridcolor": "white",
             "startlinecolor": "#2a3f5f"
            },
            "baxis": {
             "endlinecolor": "#2a3f5f",
             "gridcolor": "white",
             "linecolor": "white",
             "minorgridcolor": "white",
             "startlinecolor": "#2a3f5f"
            },
            "type": "carpet"
           }
          ],
          "choropleth": [
           {
            "colorbar": {
             "outlinewidth": 0,
             "ticks": ""
            },
            "type": "choropleth"
           }
          ],
          "contour": [
           {
            "colorbar": {
             "outlinewidth": 0,
             "ticks": ""
            },
            "colorscale": [
             [
              0,
              "#0d0887"
             ],
             [
              0.1111111111111111,
              "#46039f"
             ],
             [
              0.2222222222222222,
              "#7201a8"
             ],
             [
              0.3333333333333333,
              "#9c179e"
             ],
             [
              0.4444444444444444,
              "#bd3786"
             ],
             [
              0.5555555555555556,
              "#d8576b"
             ],
             [
              0.6666666666666666,
              "#ed7953"
             ],
             [
              0.7777777777777778,
              "#fb9f3a"
             ],
             [
              0.8888888888888888,
              "#fdca26"
             ],
             [
              1,
              "#f0f921"
             ]
            ],
            "type": "contour"
           }
          ],
          "contourcarpet": [
           {
            "colorbar": {
             "outlinewidth": 0,
             "ticks": ""
            },
            "type": "contourcarpet"
           }
          ],
          "heatmap": [
           {
            "colorbar": {
             "outlinewidth": 0,
             "ticks": ""
            },
            "colorscale": [
             [
              0,
              "#0d0887"
             ],
             [
              0.1111111111111111,
              "#46039f"
             ],
             [
              0.2222222222222222,
              "#7201a8"
             ],
             [
              0.3333333333333333,
              "#9c179e"
             ],
             [
              0.4444444444444444,
              "#bd3786"
             ],
             [
              0.5555555555555556,
              "#d8576b"
             ],
             [
              0.6666666666666666,
              "#ed7953"
             ],
             [
              0.7777777777777778,
              "#fb9f3a"
             ],
             [
              0.8888888888888888,
              "#fdca26"
             ],
             [
              1,
              "#f0f921"
             ]
            ],
            "type": "heatmap"
           }
          ],
          "heatmapgl": [
           {
            "colorbar": {
             "outlinewidth": 0,
             "ticks": ""
            },
            "colorscale": [
             [
              0,
              "#0d0887"
             ],
             [
              0.1111111111111111,
              "#46039f"
             ],
             [
              0.2222222222222222,
              "#7201a8"
             ],
             [
              0.3333333333333333,
              "#9c179e"
             ],
             [
              0.4444444444444444,
              "#bd3786"
             ],
             [
              0.5555555555555556,
              "#d8576b"
             ],
             [
              0.6666666666666666,
              "#ed7953"
             ],
             [
              0.7777777777777778,
              "#fb9f3a"
             ],
             [
              0.8888888888888888,
              "#fdca26"
             ],
             [
              1,
              "#f0f921"
             ]
            ],
            "type": "heatmapgl"
           }
          ],
          "histogram": [
           {
            "marker": {
             "pattern": {
              "fillmode": "overlay",
              "size": 10,
              "solidity": 0.2
             }
            },
            "type": "histogram"
           }
          ],
          "histogram2d": [
           {
            "colorbar": {
             "outlinewidth": 0,
             "ticks": ""
            },
            "colorscale": [
             [
              0,
              "#0d0887"
             ],
             [
              0.1111111111111111,
              "#46039f"
             ],
             [
              0.2222222222222222,
              "#7201a8"
             ],
             [
              0.3333333333333333,
              "#9c179e"
             ],
             [
              0.4444444444444444,
              "#bd3786"
             ],
             [
              0.5555555555555556,
              "#d8576b"
             ],
             [
              0.6666666666666666,
              "#ed7953"
             ],
             [
              0.7777777777777778,
              "#fb9f3a"
             ],
             [
              0.8888888888888888,
              "#fdca26"
             ],
             [
              1,
              "#f0f921"
             ]
            ],
            "type": "histogram2d"
           }
          ],
          "histogram2dcontour": [
           {
            "colorbar": {
             "outlinewidth": 0,
             "ticks": ""
            },
            "colorscale": [
             [
              0,
              "#0d0887"
             ],
             [
              0.1111111111111111,
              "#46039f"
             ],
             [
              0.2222222222222222,
              "#7201a8"
             ],
             [
              0.3333333333333333,
              "#9c179e"
             ],
             [
              0.4444444444444444,
              "#bd3786"
             ],
             [
              0.5555555555555556,
              "#d8576b"
             ],
             [
              0.6666666666666666,
              "#ed7953"
             ],
             [
              0.7777777777777778,
              "#fb9f3a"
             ],
             [
              0.8888888888888888,
              "#fdca26"
             ],
             [
              1,
              "#f0f921"
             ]
            ],
            "type": "histogram2dcontour"
           }
          ],
          "mesh3d": [
           {
            "colorbar": {
             "outlinewidth": 0,
             "ticks": ""
            },
            "type": "mesh3d"
           }
          ],
          "parcoords": [
           {
            "line": {
             "colorbar": {
              "outlinewidth": 0,
              "ticks": ""
             }
            },
            "type": "parcoords"
           }
          ],
          "pie": [
           {
            "automargin": true,
            "type": "pie"
           }
          ],
          "scatter": [
           {
            "fillpattern": {
             "fillmode": "overlay",
             "size": 10,
             "solidity": 0.2
            },
            "type": "scatter"
           }
          ],
          "scatter3d": [
           {
            "line": {
             "colorbar": {
              "outlinewidth": 0,
              "ticks": ""
             }
            },
            "marker": {
             "colorbar": {
              "outlinewidth": 0,
              "ticks": ""
             }
            },
            "type": "scatter3d"
           }
          ],
          "scattercarpet": [
           {
            "marker": {
             "colorbar": {
              "outlinewidth": 0,
              "ticks": ""
             }
            },
            "type": "scattercarpet"
           }
          ],
          "scattergeo": [
           {
            "marker": {
             "colorbar": {
              "outlinewidth": 0,
              "ticks": ""
             }
            },
            "type": "scattergeo"
           }
          ],
          "scattergl": [
           {
            "marker": {
             "colorbar": {
              "outlinewidth": 0,
              "ticks": ""
             }
            },
            "type": "scattergl"
           }
          ],
          "scattermapbox": [
           {
            "marker": {
             "colorbar": {
              "outlinewidth": 0,
              "ticks": ""
             }
            },
            "type": "scattermapbox"
           }
          ],
          "scatterpolar": [
           {
            "marker": {
             "colorbar": {
              "outlinewidth": 0,
              "ticks": ""
             }
            },
            "type": "scatterpolar"
           }
          ],
          "scatterpolargl": [
           {
            "marker": {
             "colorbar": {
              "outlinewidth": 0,
              "ticks": ""
             }
            },
            "type": "scatterpolargl"
           }
          ],
          "scatterternary": [
           {
            "marker": {
             "colorbar": {
              "outlinewidth": 0,
              "ticks": ""
             }
            },
            "type": "scatterternary"
           }
          ],
          "surface": [
           {
            "colorbar": {
             "outlinewidth": 0,
             "ticks": ""
            },
            "colorscale": [
             [
              0,
              "#0d0887"
             ],
             [
              0.1111111111111111,
              "#46039f"
             ],
             [
              0.2222222222222222,
              "#7201a8"
             ],
             [
              0.3333333333333333,
              "#9c179e"
             ],
             [
              0.4444444444444444,
              "#bd3786"
             ],
             [
              0.5555555555555556,
              "#d8576b"
             ],
             [
              0.6666666666666666,
              "#ed7953"
             ],
             [
              0.7777777777777778,
              "#fb9f3a"
             ],
             [
              0.8888888888888888,
              "#fdca26"
             ],
             [
              1,
              "#f0f921"
             ]
            ],
            "type": "surface"
           }
          ],
          "table": [
           {
            "cells": {
             "fill": {
              "color": "#EBF0F8"
             },
             "line": {
              "color": "white"
             }
            },
            "header": {
             "fill": {
              "color": "#C8D4E3"
             },
             "line": {
              "color": "white"
             }
            },
            "type": "table"
           }
          ]
         },
         "layout": {
          "annotationdefaults": {
           "arrowcolor": "#2a3f5f",
           "arrowhead": 0,
           "arrowwidth": 1
          },
          "autotypenumbers": "strict",
          "coloraxis": {
           "colorbar": {
            "outlinewidth": 0,
            "ticks": ""
           }
          },
          "colorscale": {
           "diverging": [
            [
             0,
             "#8e0152"
            ],
            [
             0.1,
             "#c51b7d"
            ],
            [
             0.2,
             "#de77ae"
            ],
            [
             0.3,
             "#f1b6da"
            ],
            [
             0.4,
             "#fde0ef"
            ],
            [
             0.5,
             "#f7f7f7"
            ],
            [
             0.6,
             "#e6f5d0"
            ],
            [
             0.7,
             "#b8e186"
            ],
            [
             0.8,
             "#7fbc41"
            ],
            [
             0.9,
             "#4d9221"
            ],
            [
             1,
             "#276419"
            ]
           ],
           "sequential": [
            [
             0,
             "#0d0887"
            ],
            [
             0.1111111111111111,
             "#46039f"
            ],
            [
             0.2222222222222222,
             "#7201a8"
            ],
            [
             0.3333333333333333,
             "#9c179e"
            ],
            [
             0.4444444444444444,
             "#bd3786"
            ],
            [
             0.5555555555555556,
             "#d8576b"
            ],
            [
             0.6666666666666666,
             "#ed7953"
            ],
            [
             0.7777777777777778,
             "#fb9f3a"
            ],
            [
             0.8888888888888888,
             "#fdca26"
            ],
            [
             1,
             "#f0f921"
            ]
           ],
           "sequentialminus": [
            [
             0,
             "#0d0887"
            ],
            [
             0.1111111111111111,
             "#46039f"
            ],
            [
             0.2222222222222222,
             "#7201a8"
            ],
            [
             0.3333333333333333,
             "#9c179e"
            ],
            [
             0.4444444444444444,
             "#bd3786"
            ],
            [
             0.5555555555555556,
             "#d8576b"
            ],
            [
             0.6666666666666666,
             "#ed7953"
            ],
            [
             0.7777777777777778,
             "#fb9f3a"
            ],
            [
             0.8888888888888888,
             "#fdca26"
            ],
            [
             1,
             "#f0f921"
            ]
           ]
          },
          "colorway": [
           "#636efa",
           "#EF553B",
           "#00cc96",
           "#ab63fa",
           "#FFA15A",
           "#19d3f3",
           "#FF6692",
           "#B6E880",
           "#FF97FF",
           "#FECB52"
          ],
          "font": {
           "color": "#2a3f5f"
          },
          "geo": {
           "bgcolor": "white",
           "lakecolor": "white",
           "landcolor": "#E5ECF6",
           "showlakes": true,
           "showland": true,
           "subunitcolor": "white"
          },
          "hoverlabel": {
           "align": "left"
          },
          "hovermode": "closest",
          "mapbox": {
           "style": "light"
          },
          "paper_bgcolor": "white",
          "plot_bgcolor": "#E5ECF6",
          "polar": {
           "angularaxis": {
            "gridcolor": "white",
            "linecolor": "white",
            "ticks": ""
           },
           "bgcolor": "#E5ECF6",
           "radialaxis": {
            "gridcolor": "white",
            "linecolor": "white",
            "ticks": ""
           }
          },
          "scene": {
           "xaxis": {
            "backgroundcolor": "#E5ECF6",
            "gridcolor": "white",
            "gridwidth": 2,
            "linecolor": "white",
            "showbackground": true,
            "ticks": "",
            "zerolinecolor": "white"
           },
           "yaxis": {
            "backgroundcolor": "#E5ECF6",
            "gridcolor": "white",
            "gridwidth": 2,
            "linecolor": "white",
            "showbackground": true,
            "ticks": "",
            "zerolinecolor": "white"
           },
           "zaxis": {
            "backgroundcolor": "#E5ECF6",
            "gridcolor": "white",
            "gridwidth": 2,
            "linecolor": "white",
            "showbackground": true,
            "ticks": "",
            "zerolinecolor": "white"
           }
          },
          "shapedefaults": {
           "line": {
            "color": "#2a3f5f"
           }
          },
          "ternary": {
           "aaxis": {
            "gridcolor": "white",
            "linecolor": "white",
            "ticks": ""
           },
           "baxis": {
            "gridcolor": "white",
            "linecolor": "white",
            "ticks": ""
           },
           "bgcolor": "#E5ECF6",
           "caxis": {
            "gridcolor": "white",
            "linecolor": "white",
            "ticks": ""
           }
          },
          "title": {
           "x": 0.05
          },
          "xaxis": {
           "automargin": true,
           "gridcolor": "white",
           "linecolor": "white",
           "ticks": "",
           "title": {
            "standoff": 15
           },
           "zerolinecolor": "white",
           "zerolinewidth": 2
          },
          "yaxis": {
           "automargin": true,
           "gridcolor": "white",
           "linecolor": "white",
           "ticks": "",
           "title": {
            "standoff": 15
           },
           "zerolinecolor": "white",
           "zerolinewidth": 2
          }
         }
        }
       }
      }
     },
     "metadata": {},
     "output_type": "display_data"
    }
   ],
   "source": [
    "\n",
    "country_df['count_per_capita'] = country_df['count'] / pop_df['2022']\n",
    "fig = px.choropleth(country_df, locations=\"iso_alpha\",\n",
    "                    color=\"count_per_capita\", # lifeExp is a column of gapminder\n",
    "                    # hover_name=\"country\", # column to add to hover information\n",
    "                    color_continuous_scale=px.colors.sequential.Plasma)\n",
    "fig.show()"
   ]
  }
 ],
 "metadata": {
  "kernelspec": {
   "display_name": "whatforwhere",
   "language": "python",
   "name": "python3"
  },
  "language_info": {
   "codemirror_mode": {
    "name": "ipython",
    "version": 3
   },
   "file_extension": ".py",
   "mimetype": "text/x-python",
   "name": "python",
   "nbconvert_exporter": "python",
   "pygments_lexer": "ipython3",
   "version": "3.12.3"
  }
 },
 "nbformat": 4,
 "nbformat_minor": 2
}
